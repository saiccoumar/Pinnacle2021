{
 "cells": [
  {
   "cell_type": "code",
   "execution_count": 1,
   "source": [
    "import sqlite3\r\n",
    "import numpy\r\n",
    "dbName = 'movies.db'\r\n",
    "inputFile = 'Movies_and_TV_5.json'\r\n",
    "con = sqlite3.connect(dbName)\r\n",
    "cur = con.cursor()\r\n",
    "\r\n",
    "\r\n",
    "class myCorr:\r\n",
    "    def __init__(self):\r\n",
    "        self.count = 0\r\n",
    "        self.list1 = []\r\n",
    "        self.list2 = []\r\n",
    "    def step(self, value1,value2):\r\n",
    "        self.list1.append(value1)\r\n",
    "        self.list2.append(value2)\r\n",
    "    def finalize(self):\r\n",
    "        #print(self.list1[:10])\r\n",
    "        #print(self.list2[:10])\r\n",
    "        if len(self.list1) and len(self.list2):\r\n",
    "            self.correlation = numpy.corrcoef(self.list1,self.list2)[0][1]\r\n",
    "        else:\r\n",
    "            self.correlation = 0.0\r\n",
    "        return self.correlation\r\n",
    "\r\n",
    "con.create_aggregate(\"corr\", 2, myCorr)"
   ],
   "outputs": [],
   "metadata": {}
  },
  {
   "cell_type": "code",
   "execution_count": 4,
   "source": [
    "import convert\r\n",
    "\r\n",
    "convert.convert(dbName,inputFile,(\"reviewerID\",\"overall\",\"asin\")) #these keys may change based on convert.py\r\n",
    "create = \"\"\"\r\n",
    "create table if not exists itemInfo (\r\n",
    "itemID varchar(25),\r\n",
    "occurances int\r\n",
    ")\r\n",
    "\"\"\"\r\n",
    "\r\n",
    "createID = \"\"\"\r\n",
    "insert into itemInfo(itemID) select distinct itemID from itemRatings\r\n",
    "\"\"\"\r\n",
    "occurances = \"\"\"\r\n",
    "UPDATE itemInfo\r\n",
    "SET occurances = (select count(*) t from itemRatings where itemID = itemInfo.itemID)\r\n",
    "where exists(select count(*) t from itemRatings where itemID = itemInfo.itemID)\r\n",
    "\"\"\"\r\n",
    "cur.execute(create)\r\n",
    "\r\n",
    "\r\n",
    "# cur.execute(\"insert into petSupplies (rating) select rating - (select average from (select AVG(rating) as average,username as usern from petSupplies group by username) where usern = petSupplies.username) from petSupplies \") \r\n",
    "# con.commit()"
   ],
   "outputs": [
    {
     "output_type": "stream",
     "name": "stdout",
     "text": [
      "failed to read\n",
      "load inserted\n",
      "done\n"
     ]
    },
    {
     "output_type": "execute_result",
     "data": {
      "text/plain": [
       "<sqlite3.Cursor at 0x200800e35e0>"
      ]
     },
     "metadata": {},
     "execution_count": 4
    }
   ],
   "metadata": {}
  },
  {
   "cell_type": "code",
   "execution_count": 5,
   "source": [
    "con.commit()\r\n",
    "cur.execute(createID)\r\n",
    "cur.execute(occurances)\r\n",
    "con.commit()"
   ],
   "outputs": [],
   "metadata": {}
  },
  {
   "cell_type": "code",
   "execution_count": 2,
   "source": [
    "\r\n",
    "from datetime import datetime\r\n",
    "\r\n",
    "def calcCorrelations(item,threshold):\r\n",
    "    small = f\"\"\"select itemID1,correlation,occurances from\r\n",
    "    (select corr(rating1,rating2) correlation,itemID2,itemID1 from \r\n",
    "    ((select itemID as itemID2,user as user2,rating as rating2  from petSupplies where itemID = \"{item}\") \r\n",
    "    inner join  (select itemID itemID1,user as user1,rating as rating1 from petSupplies)\r\n",
    "    on  user1 = user2) group by itemID1)  \r\n",
    "    inner join (select itemID id, occurances from itemInfo where occurances > {threshold}) on itemID1=id order by correlation desc\"\"\"\r\n",
    "    noOccurances = f\"\"\"select itemID1,correlation,occurances from\r\n",
    "    (select corr(rating1,rating2) correlation,itemID2,itemID1 from \r\n",
    "    ((select itemID as itemID2,user as user2,rating as rating2  from petSupplies where itemID = \"{item}\") \r\n",
    "    inner join  (select itemID itemID1,user as user1,rating as rating1 from petSupplies)\r\n",
    "    on  user1 = user2) group by itemID1) order by correlation desc\"\"\"\r\n",
    "    start = datetime.now()\r\n",
    "    cur.execute(small)\r\n",
    "    result = cur.fetchmany(100)\r\n",
    "    print((datetime.now()-start))\r\n",
    "    return result\r\n",
    "print(calcCorrelations(\"B002CJIPEK\",10))"
   ],
   "outputs": [
    {
     "output_type": "stream",
     "name": "stdout",
     "text": [
      "0:00:00.774326\n",
      "[('B00025YTZA', 1.0, 44), ('B0007NTBJ6', 1.0, 41), ('B000F1OS20', 1.0, 47), ('B000FS4OYA', 1.0, 194), ('B000OQO69Q', 1.0, 33), ('B002CJIPEK', 1.0, 520), ('B003BYQ09C', 1.0, 44), ('B0040QOYZ2', 1.0, 379), ('B008OV91HU', 1.0, 37), ('B0002DI68I', 0.9999999999999999, 13), ('B0002H3ZI0', 0.9999999999999999, 193), ('B000633UPS', 0.9999999999999999, 13), ('B000668Z96', 0.9999999999999999, 114), ('B0009XJQ0I', 0.9999999999999999, 32), ('B000E8HQ9Q', 0.9999999999999999, 15), ('B000EFL0A0', 0.9999999999999999, 23), ('B000JCWAWA', 0.9999999999999999, 70), ('B000JJFNJK', 0.9999999999999999, 57), ('B000QFT1R2', 0.9999999999999999, 161), ('B00176CGK8', 0.9999999999999999, 118), ('B003ALMW0M', 0.9999999999999999, 273), ('B003JFRQQ4', 0.9999999999999999, 140), ('B0041HUW8S', 0.9999999999999999, 13), ('B004GFN2ZA', 0.9999999999999999, 96), ('B0052SP8JS', 0.9999999999999999, 77), ('B005AP3B8S', 0.9999999999999999, 110), ('B006MUQOBQ', 0.9999999999999999, 156), ('B00008AJH9', 0.9999999999999998, 75), ('B0002AT4QY', 0.9999999999999998, 22), ('B0057QEJYA', 0.9608713011059297, 11), ('B00BP2QJPW', 0.9434563530497264, 26), ('B007DZOZBU', 0.9429541672723837, 35), ('B003TU0XG4', 0.8660254037844387, 175), ('B0056F53YC', 0.8660254037844385, 54), ('B00EI673B6', 0.8660254037844385, 25), ('B002CJAOJY', 0.8451542547285167, 98), ('B00DN3LKJG', 0.8408409924953905, 18), ('B002GQDUBW', 0.8308787379179846, 23), ('B00063MQJ4', 0.8164965809277259, 81), ('B002R8J7YS', 0.8164965809277259, 86), ('B0013MTJYW', 0.8062257748298549, 252), ('B0002AR0II', 0.7745966692414834, 345), ('B000JOE224', 0.7592566023652968, 113), ('B00023XCYG', 0.7559289460184545, 36), ('B000BQN9LA', 0.7559289460184545, 259), ('B000YACELE', 0.7559289460184543, 113), ('B00DLQWMGU', 0.7503869107974789, 28), ('B00IYI0LGI', 0.7499999999999999, 18), ('B0002DK26C', 0.6882472016116854, 152), ('B00J5VQSX8', 0.6271186440677965, 23), ('B002RT8M4I', 0.6201736729460422, 56), ('B00HPZEMR0', 0.6123724356957946, 18), ('B0053V7WHA', 0.5928454770588595, 63), ('B007Y47XM8', 0.587605960347241, 24), ('B001WAFT80', 0.5773502691896257, 190), ('B005QRDCWA', 0.5773502691896257, 80), ('B00ISOZO42', 0.574798745570588, 27), ('B0055OFM3G', 0.571262658391602, 43), ('B003MQN33U', 0.5705333806547846, 40), ('B0051WKPWA', 0.5651961189587126, 28), ('B00284BM3U', 0.5477225575051662, 20), ('B00450U7QS', 0.5318160234783105, 38), ('B0030N5HB6', 0.53046166512178, 39), ('B0064ZX778', 0.5303300858899105, 18), ('B00063KG82', 0.5270462766947298, 95), ('B0009YHTA6', 0.5248906591678238, 119), ('B00074VZ9O', 0.5, 30), ('B000UZNLGA', 0.5, 55), ('B004QGYY9C', 0.5, 33), ('B0002J1F76', 0.4999999999999999, 144), ('B0009XH6ZA', 0.4999999999999999, 43), ('B000F9JJJE', 0.4999999999999999, 222), ('B0015ZK5K4', 0.4999999999999999, 92), ('B009LHIG4K', 0.4999999999999999, 15), ('B001BCVY8I', 0.4996697489732161, 53), ('B00INTTDQW', 0.4987616919570015, 54), ('B00HPZEM34', 0.4920676913434552, 23), ('B001VJ0B0I', 0.48819734687518185, 370), ('B004QM0OFY', 0.4807277880934823, 58), ('B001KAAB7Q', 0.47756693294091923, 32), ('B00BD73YXO', 0.471950041959171, 18), ('B001VIWHMY', 0.4699333893836909, 48), ('B00DU5XGIA', 0.4652966018278984, 23), ('B00INTTEY8', 0.4567501391955699, 43), ('B00IQG6KWW', 0.4536383816989943, 34), ('B0018MBR1U', 0.4472135954999579, 42), ('B002RT8M84', 0.4472135954999579, 116), ('B00BIYLJA2', 0.4264014327112209, 17), ('B00BEW8GKY', 0.4232524043017934, 40), ('B001AT4IE4', 0.4197941716176824, 86), ('B00DQM430W', 0.4128687351249577, 57), ('B009PZHO1O', 0.4107919181288746, 15), ('B00C3HTNFG', 0.4006168083848877, 21), ('B001F2I9YG', 0.3954139598028634, 73), ('B00HPZEKYU', 0.39070190053016357, 20), ('B006FS0NR6', 0.38978972143455365, 20), ('B00HPZEJPK', 0.3892494720807616, 21), ('B009PZHP7M', 0.3889087296526011, 16), ('B001Q9EFVY', 0.3873780504019376, 67), ('B00HPZPID2', 0.3816612668068966, 21)]\n"
     ]
    },
    {
     "output_type": "stream",
     "name": "stderr",
     "text": [
      "C:\\Users\\dtrag\\AppData\\Local\\Packages\\PythonSoftwareFoundation.Python.3.9_qbz5n2kfra8p0\\LocalCache\\local-packages\\Python39\\site-packages\\numpy\\lib\\function_base.py:2683: RuntimeWarning: Degrees of freedom <= 0 for slice\n",
      "  c = cov(x, y, rowvar, dtype=dtype)\n",
      "C:\\Users\\dtrag\\AppData\\Local\\Packages\\PythonSoftwareFoundation.Python.3.9_qbz5n2kfra8p0\\LocalCache\\local-packages\\Python39\\site-packages\\numpy\\lib\\function_base.py:2542: RuntimeWarning: divide by zero encountered in true_divide\n",
      "  c *= np.true_divide(1, fact)\n",
      "C:\\Users\\dtrag\\AppData\\Local\\Packages\\PythonSoftwareFoundation.Python.3.9_qbz5n2kfra8p0\\LocalCache\\local-packages\\Python39\\site-packages\\numpy\\lib\\function_base.py:2542: RuntimeWarning: invalid value encountered in multiply\n",
      "  c *= np.true_divide(1, fact)\n",
      "C:\\Users\\dtrag\\AppData\\Local\\Packages\\PythonSoftwareFoundation.Python.3.9_qbz5n2kfra8p0\\LocalCache\\local-packages\\Python39\\site-packages\\numpy\\lib\\function_base.py:2691: RuntimeWarning: invalid value encountered in true_divide\n",
      "  c /= stddev[:, None]\n",
      "C:\\Users\\dtrag\\AppData\\Local\\Packages\\PythonSoftwareFoundation.Python.3.9_qbz5n2kfra8p0\\LocalCache\\local-packages\\Python39\\site-packages\\numpy\\lib\\function_base.py:2692: RuntimeWarning: invalid value encountered in true_divide\n",
      "  c /= stddev[None, :]\n"
     ]
    }
   ],
   "metadata": {}
  }
 ],
 "metadata": {
  "kernelspec": {
   "name": "python3",
   "display_name": "Python 3.9.7 64-bit (windows store)"
  },
  "language_info": {
   "codemirror_mode": {
    "name": "ipython",
    "version": 3
   },
   "file_extension": ".py",
   "mimetype": "text/x-python",
   "name": "python",
   "nbconvert_exporter": "python",
   "pygments_lexer": "ipython3",
   "version": "3.9.7"
  },
  "interpreter": {
   "hash": "07b217d046ad2b40aaf078586948cbd596118fa8775e8db783f9303ee40167b7"
  }
 },
 "nbformat": 4,
 "nbformat_minor": 4
}