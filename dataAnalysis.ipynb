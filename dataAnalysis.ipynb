{
 "cells": [
  {
   "cell_type": "code",
   "execution_count": 4,
   "source": [
    "import sqlite3\r\n",
    "import numpy\r\n",
    "dbName = 'movies2.db'\r\n",
    "inputFile = 'ratings.csv'\r\n",
    "con = sqlite3.connect(dbName)\r\n",
    "cur = con.cursor()\r\n",
    "\r\n",
    "\r\n",
    "class myCorr:\r\n",
    "    def __init__(self):\r\n",
    "        self.count = 0\r\n",
    "        self.list1 = []\r\n",
    "        self.list2 = []\r\n",
    "    def step(self, value1,value2):\r\n",
    "        self.list1.append(value1)\r\n",
    "        self.list2.append(value2)\r\n",
    "    def finalize(self):\r\n",
    "        #print(self.list1[:10])\r\n",
    "        #print(self.list2[:10])\r\n",
    "        if len(self.list1) and len(self.list2):\r\n",
    "            self.correlation = numpy.corrcoef(self.list1,self.list2)[0][1]\r\n",
    "        else:\r\n",
    "            self.correlation = 0.0\r\n",
    "        return self.correlation\r\n",
    "\r\n",
    "con.create_aggregate(\"corr\", 2, myCorr)\r\n"
   ],
   "outputs": [],
   "metadata": {}
  },
  {
   "cell_type": "code",
   "execution_count": 2,
   "source": [
    "import convert\r\n",
    "\r\n",
    "#convert.convertJSON(dbName,inputFile,(\"reviewerID\",\"overall\",\"asin\")) #these keys may change based on convert.py\r\n",
    "convert.convertCSV(dbName,inputFile,[0,2,1]) #has to be user,rating,itemId for now\r\n",
    "drop = \"drop table if exists itemInfo\"\r\n",
    "\r\n",
    "create = \"\"\"\r\n",
    "create table if not exists itemInfo (\r\n",
    "itemID varchar(25),\r\n",
    "occurances int\r\n",
    ")\r\n",
    "\"\"\"\r\n",
    "createIndex = \"create index idx_1 on itemRatings(itemID,user,rating)\"\r\n",
    "createID = \"\"\"\r\n",
    "insert into itemInfo(itemID) select distinct itemID from itemRatings\r\n",
    "\"\"\"\r\n",
    "occurances = \"\"\"\r\n",
    "UPDATE itemInfo\r\n",
    "SET occurances = (select count(*) t from itemRatings where itemID = itemInfo.itemID)\r\n",
    "where exists(select count(*) t from itemRatings where itemID = itemInfo.itemID)\r\n",
    "\"\"\"\r\n",
    "cur.execute(drop)\r\n",
    "print(\"dropped\")\r\n",
    "cur.execute(create)\r\n",
    "print(\"created\")\r\n",
    "cur.execute(createIndex)\r\n",
    "print(\"indexed\")\r\n",
    "cur.execute(createID)\r\n",
    "print(\"foreign keyed\")\r\n",
    "cur.execute(occurances)\r\n",
    "print(\"frequency counted\")\r\n",
    "con.commit()\r\n",
    "\r\n",
    "# cur.execute(\"insert into petSupplies (rating) select rating - (select average from (select AVG(rating) as average,username as usern from petSupplies group by username) where usern = petSupplies.username) from petSupplies \") \r\n",
    "# con.commit()"
   ],
   "outputs": [
    {
     "output_type": "stream",
     "name": "stdout",
     "text": [
      "['userId', 'movieId', 'rating', 'timestamp']\n",
      "dropped\n",
      "created\n",
      "indexed\n",
      "foreign keyed\n",
      "frequency counted\n"
     ]
    }
   ],
   "metadata": {}
  },
  {
   "cell_type": "code",
   "execution_count": null,
   "source": [
    "\r\n",
    "from datetime import datetime\r\n",
    "\r\n",
    "def calcCorrelations(item,threshold,frequency=.05):\r\n",
    "    small = f\"\"\"select itemID1,correlation,occurances from\r\n",
    "    (select corr(rating1,rating2) correlation,itemID2,itemID1 from \r\n",
    "    ((select itemID as itemID2,user as user2,rating as rating2  from petSupplies where itemID = \"{item}\") \r\n",
    "    inner join  (select itemID itemID1,user as user1,rating as rating1 from petSupplies)\r\n",
    "    on  user1 = user2) group by itemID1)  \r\n",
    "    inner join (select itemID id, occurances from itemInfo where occurances > {threshold}) on itemID1=id order by correlation desc\"\"\"\r\n",
    "    noOccurances = f\"\"\"select itemID1,correlation,occurances from\r\n",
    "    (select corr(rating1,rating2) correlation,itemID2,itemID1 from \r\n",
    "    ((select itemID as itemID2,user as user2,rating as rating2  from petSupplies where itemID = \"{item}\") \r\n",
    "    inner join  (select itemID itemID1,user as user1,rating as rating1 from petSupplies)\r\n",
    "    on  user1 = user2) group by itemID1) order by correlation desc\"\"\"\r\n",
    "    start = datetime.now()\r\n",
    "    cur.execute(noOccurances)\r\n",
    "    result = cur.fetchmany(100)\r\n",
    "    print((datetime.now()-start))\r\n",
    "    return result\r\n",
    "print(calcCorrelations(\"B002CJIPEK\",10))"
   ],
   "outputs": [
    {
     "output_type": "error",
     "ename": "OperationalError",
     "evalue": "no such table: petSupplies",
     "traceback": [
      "\u001b[1;31m---------------------------------------------------------------------------\u001b[0m",
      "\u001b[1;31mOperationalError\u001b[0m                          Traceback (most recent call last)",
      "\u001b[1;32m~\\AppData\\Local\\Temp/ipykernel_14764/700582885.py\u001b[0m in \u001b[0;36m<module>\u001b[1;34m\u001b[0m\n\u001b[0;32m     18\u001b[0m     \u001b[0mprint\u001b[0m\u001b[1;33m(\u001b[0m\u001b[1;33m(\u001b[0m\u001b[0mdatetime\u001b[0m\u001b[1;33m.\u001b[0m\u001b[0mnow\u001b[0m\u001b[1;33m(\u001b[0m\u001b[1;33m)\u001b[0m\u001b[1;33m-\u001b[0m\u001b[0mstart\u001b[0m\u001b[1;33m)\u001b[0m\u001b[1;33m)\u001b[0m\u001b[1;33m\u001b[0m\u001b[1;33m\u001b[0m\u001b[0m\n\u001b[0;32m     19\u001b[0m     \u001b[1;32mreturn\u001b[0m \u001b[0mresult\u001b[0m\u001b[1;33m\u001b[0m\u001b[1;33m\u001b[0m\u001b[0m\n\u001b[1;32m---> 20\u001b[1;33m \u001b[0mprint\u001b[0m\u001b[1;33m(\u001b[0m\u001b[0mcalcCorrelations\u001b[0m\u001b[1;33m(\u001b[0m\u001b[1;34m\"B002CJIPEK\"\u001b[0m\u001b[1;33m,\u001b[0m\u001b[1;36m10\u001b[0m\u001b[1;33m)\u001b[0m\u001b[1;33m)\u001b[0m\u001b[1;33m\u001b[0m\u001b[1;33m\u001b[0m\u001b[0m\n\u001b[0m",
      "\u001b[1;32m~\\AppData\\Local\\Temp/ipykernel_14764/700582885.py\u001b[0m in \u001b[0;36mcalcCorrelations\u001b[1;34m(item, threshold, frequency)\u001b[0m\n\u001b[0;32m     14\u001b[0m     on  user1 = user2) group by itemID1) order by correlation desc\"\"\"\n\u001b[0;32m     15\u001b[0m     \u001b[0mstart\u001b[0m \u001b[1;33m=\u001b[0m \u001b[0mdatetime\u001b[0m\u001b[1;33m.\u001b[0m\u001b[0mnow\u001b[0m\u001b[1;33m(\u001b[0m\u001b[1;33m)\u001b[0m\u001b[1;33m\u001b[0m\u001b[1;33m\u001b[0m\u001b[0m\n\u001b[1;32m---> 16\u001b[1;33m     \u001b[0mcur\u001b[0m\u001b[1;33m.\u001b[0m\u001b[0mexecute\u001b[0m\u001b[1;33m(\u001b[0m\u001b[0mnoOccurances\u001b[0m\u001b[1;33m)\u001b[0m\u001b[1;33m\u001b[0m\u001b[1;33m\u001b[0m\u001b[0m\n\u001b[0m\u001b[0;32m     17\u001b[0m     \u001b[0mresult\u001b[0m \u001b[1;33m=\u001b[0m \u001b[0mcur\u001b[0m\u001b[1;33m.\u001b[0m\u001b[0mfetchmany\u001b[0m\u001b[1;33m(\u001b[0m\u001b[1;36m100\u001b[0m\u001b[1;33m)\u001b[0m\u001b[1;33m\u001b[0m\u001b[1;33m\u001b[0m\u001b[0m\n\u001b[0;32m     18\u001b[0m     \u001b[0mprint\u001b[0m\u001b[1;33m(\u001b[0m\u001b[1;33m(\u001b[0m\u001b[0mdatetime\u001b[0m\u001b[1;33m.\u001b[0m\u001b[0mnow\u001b[0m\u001b[1;33m(\u001b[0m\u001b[1;33m)\u001b[0m\u001b[1;33m-\u001b[0m\u001b[0mstart\u001b[0m\u001b[1;33m)\u001b[0m\u001b[1;33m)\u001b[0m\u001b[1;33m\u001b[0m\u001b[1;33m\u001b[0m\u001b[0m\n",
      "\u001b[1;31mOperationalError\u001b[0m: no such table: petSupplies"
     ]
    }
   ],
   "metadata": {}
  },
  {
   "cell_type": "code",
   "execution_count": 8,
   "source": [
    "import csv\r\n",
    "f = open(\"movies.csv\")\r\n",
    "reader = csv.reader(f,decoding='utf8')\r\n",
    "next(reader)\r\n",
    "for row in reader:\r\n",
    "    #print(row)\r\n",
    "    try:\r\n",
    "        con.execute(f\"\"\"Update itemInfo \r\n",
    "        SET name = ?\r\n",
    "        where itemID = ?\r\n",
    "        \"\"\",(row[1],row[0]))\r\n",
    "    except:\r\n",
    "        continue"
   ],
   "outputs": [
    {
     "output_type": "error",
     "ename": "TypeError",
     "evalue": "'decoding' is an invalid keyword argument for this function",
     "traceback": [
      "\u001b[1;31m---------------------------------------------------------------------------\u001b[0m",
      "\u001b[1;31mTypeError\u001b[0m                                 Traceback (most recent call last)",
      "\u001b[1;32m~\\AppData\\Local\\Temp/ipykernel_16960/3589565180.py\u001b[0m in \u001b[0;36m<module>\u001b[1;34m\u001b[0m\n\u001b[0;32m      1\u001b[0m \u001b[1;32mimport\u001b[0m \u001b[0mcsv\u001b[0m\u001b[1;33m\u001b[0m\u001b[1;33m\u001b[0m\u001b[0m\n\u001b[0;32m      2\u001b[0m \u001b[0mf\u001b[0m \u001b[1;33m=\u001b[0m \u001b[0mopen\u001b[0m\u001b[1;33m(\u001b[0m\u001b[1;34m\"movies.csv\"\u001b[0m\u001b[1;33m)\u001b[0m\u001b[1;33m\u001b[0m\u001b[1;33m\u001b[0m\u001b[0m\n\u001b[1;32m----> 3\u001b[1;33m \u001b[0mreader\u001b[0m \u001b[1;33m=\u001b[0m \u001b[0mcsv\u001b[0m\u001b[1;33m.\u001b[0m\u001b[0mreader\u001b[0m\u001b[1;33m(\u001b[0m\u001b[0mf\u001b[0m\u001b[1;33m,\u001b[0m\u001b[0mdecoding\u001b[0m\u001b[1;33m=\u001b[0m\u001b[1;34m'utf8'\u001b[0m\u001b[1;33m)\u001b[0m\u001b[1;33m\u001b[0m\u001b[1;33m\u001b[0m\u001b[0m\n\u001b[0m\u001b[0;32m      4\u001b[0m \u001b[0mnext\u001b[0m\u001b[1;33m(\u001b[0m\u001b[0mreader\u001b[0m\u001b[1;33m)\u001b[0m\u001b[1;33m\u001b[0m\u001b[1;33m\u001b[0m\u001b[0m\n\u001b[0;32m      5\u001b[0m \u001b[1;32mfor\u001b[0m \u001b[0mrow\u001b[0m \u001b[1;32min\u001b[0m \u001b[0mreader\u001b[0m\u001b[1;33m:\u001b[0m\u001b[1;33m\u001b[0m\u001b[1;33m\u001b[0m\u001b[0m\n",
      "\u001b[1;31mTypeError\u001b[0m: 'decoding' is an invalid keyword argument for this function"
     ]
    }
   ],
   "metadata": {}
  }
 ],
 "metadata": {
  "kernelspec": {
   "name": "python3",
   "display_name": "Python 3.9.7 64-bit ('pinnacle': venv)"
  },
  "language_info": {
   "codemirror_mode": {
    "name": "ipython",
    "version": 3
   },
   "file_extension": ".py",
   "mimetype": "text/x-python",
   "name": "python",
   "nbconvert_exporter": "python",
   "pygments_lexer": "ipython3",
   "version": "3.9.7"
  },
  "interpreter": {
   "hash": "c18106529b902533ee9256141e9e3224edf7a3061f52ece14dbf85a8300b56f8"
  }
 },
 "nbformat": 4,
 "nbformat_minor": 4
}